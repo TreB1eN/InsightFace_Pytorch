{
 "cells": [
  {
   "cell_type": "code",
   "execution_count": 1,
   "metadata": {
    "ExecuteTime": {
     "end_time": "2018-08-06T12:16:01.581503Z",
     "start_time": "2018-08-06T12:16:01.377552Z"
    }
   },
   "outputs": [],
   "source": [
    "# # see http://stackoverflow.com/questions/1907993/autoreload-of-modules-in-ipython\n",
    "# %load_ext autoreload\n",
    "# %autoreload 2\n",
    "# %matplotlib inline\n",
    "# import pdb"
   ]
  },
  {
   "cell_type": "code",
   "execution_count": 1,
   "metadata": {
    "ExecuteTime": {
     "end_time": "2018-08-06T12:16:02.981513Z",
     "start_time": "2018-08-06T12:16:01.884463Z"
    },
    "scrolled": true
   },
   "outputs": [],
   "source": [
    "import os\n",
    "import os.path as op\n",
    "import time\n",
    "import argparse\n",
    "from glob import glob\n",
    "from data.data_pipe import get_val_pair\n",
    "from torchvision import transforms as trans\n",
    "from tqdm import tqdm_notebook as tqdm\n",
    "import torch\n",
    "import numpy as np\n",
    "import pandas as pd\n",
    "import seaborn as sns\n",
    "from IPython.display import display\n",
    "\n",
    "from Learner import face_learner\n",
    "from config import get_config\n",
    "from utils import hflip_batch, cosineDim1\n",
    "from data.datasets import (IJBCAllCroppedFacesDataset, IJBCVerificationPathDataset,\n",
    "                           ARVerificationAllPathDataset, IJBAVerificationDataset)\n",
    "from verification import calculate_val_by_diff, calculate_val_far\n",
    "\n",
    "os.environ['CUDA_VISIBLE_DEVICES'] = '1'"
   ]
  },
  {
   "cell_type": "markdown",
   "metadata": {},
   "source": [
    "## Init Learner and conf"
   ]
  },
  {
   "cell_type": "code",
   "execution_count": 2,
   "metadata": {},
   "outputs": [
    {
     "name": "stdout",
     "output_type": "stream",
     "text": [
      "{'fixed_str': 'ir_se50.pth', 'pretrainedMdl': 'ir_se50.pth', 'data_path': PosixPath('data'), 'work_path': PosixPath('work_space'), 'model_path': PosixPath('work_space/models'), 'log_path': PosixPath('work_space/log'), 'save_path': PosixPath('work_space/save'), 'exp_title': 'xCos', 'exp_comment': 'expMS1M', 'input_size': [112, 112], 'embedding_size': 1568, 'use_mobilfacenet': False, 'net_depth': 50, 'drop_ratio': 0.6, 'net_mode': 'ir_se', 'device': device(type='cuda', index=0), 'test_transform': Compose(\n",
      "    ToTensor()\n",
      "    Normalize(mean=[0.5, 0.5, 0.5], std=[0.5, 0.5, 0.5])\n",
      "), 'data_mode': 'emore', 'vgg_folder': PosixPath('data/faces_vgg_112x112'), 'ms1m_folder': PosixPath('data/faces_ms1m_112x112'), 'emore_folder': PosixPath('data/faces_emore'), 'batch_size': 20, 'USE_SOFTMAX': True, 'SOFTMAX_T': 1, 'facebank_path': PosixPath('data/facebank'), 'threshold': 1.5, 'threshold_xCos': 0.2338, 'face_limit': 10, 'min_face_size': 30}\n",
      "ir_se_50 model generated\n"
     ]
    }
   ],
   "source": [
    "conf = get_config(training=False)\n",
    "conf.batch_size=20 # Why bs_size can only be the number that divide 6000 well?\n",
    "learner = face_learner(conf, inference=True)"
   ]
  },
  {
   "cell_type": "code",
   "execution_count": 3,
   "metadata": {},
   "outputs": [],
   "source": [
    "def l2normalize(x, ord=2, axis=None):\n",
    "    return x / np.linalg.norm(x, ord=ord, axis=axis)\n",
    "\n",
    "\n",
    "def score_fn_original(feat1, feat2):\n",
    "    return l2normalize(feat1).dot(l2normalize(feat2))\n",
    "    \n",
    "\n",
    "def score_fn_ours(feat_map1, feat_map2, learner, attention_strategy='learned', attention_weight=None):\n",
    "    with torch.no_grad():\n",
    "        assert len(feat_map1.shape) == 3  # [c, w, h]\n",
    "        c, w, h = feat_map1.shape\n",
    "        feat_map1 = torch.tensor(feat_map1).unsqueeze(0).to(conf.device)\n",
    "        feat_map2 = torch.tensor(feat_map2).unsqueeze(0).to(conf.device)\n",
    "        if attention_strategy == 'learned':\n",
    "            attention = None\n",
    "        elif attention_strategy == 'uniform':\n",
    "            learner.model_attention.eval()\n",
    "            attention = torch.ones([1, 1, w, h])  # [batch, c, w, h]\n",
    "            attention /= attention.sum()\n",
    "            attention = attention.to(conf.device)\n",
    "        elif attention_strategy == 'fixed':\n",
    "            assert attention_weight is not None\n",
    "            assert attention_weight.shape[0] == w and attention_weight.shape[1] == h\n",
    "            attention = torch.tensor(attention_weight).view(\n",
    "                [1, 1, attention_weight.shape[0], attention_weight.shape[1]]\n",
    "            ).type(feat_map1.type())\n",
    "        else:\n",
    "            raise NotImplementedError\n",
    "        xCos, attention, cos_patched = learner.get_x_cosine(feat_map1, feat_map2, attention)\n",
    "    return xCos.cpu().numpy()\n",
    "\n",
    "def evaluate_and_plot(scores, is_sames, nrof_folds=10, dataset_name='AR Face', display_roc_curve=True):\n",
    "    accuracy, best_threshold, roc_curve_tensor = learner.evaluate_and_plot_roc(scores, is_sames, nrof_folds=10)\n",
    "    print(f'{dataset_name} - accuray:{accuracy:.5f} (1-{1-accuracy:.5f}), threshold:{best_threshold}')\n",
    "    if display_roc_curve:\n",
    "        display(trans.ToPILImage()(roc_curve_tensor))\n",
    "    return accuracy"
   ]
  },
  {
   "cell_type": "markdown",
   "metadata": {},
   "source": [
    "# Evaluate on ARFace"
   ]
  },
  {
   "cell_type": "code",
   "execution_count": 4,
   "metadata": {},
   "outputs": [],
   "source": [
    "from glob import glob\n",
    "from copy import deepcopy\n",
    "import random\n",
    "\n",
    "\n",
    "class ARFaceSampler:\n",
    "    def __init__(self, feat_root='./saved_features/ARFace/ir_se50_original/',\n",
    "                 positive_num=6000, negative_num=6000,\n",
    "                 conditions=('8', '9', '10', '11', '12', '13')):\n",
    "        all_feature_files = sorted(glob(op.join(feat_root, '*.np*')))\n",
    "        all_sample_names = [op.splitext(op.basename(f))[0] for f in all_feature_files]\n",
    "        self.valid_sample_names = [n for n in all_sample_names if self._get_condition(n) in conditions]\n",
    "        \n",
    "        self.positive_pairs = self._build_pairs(num=positive_num, positive=True)\n",
    "        self.negative_pairs = self._build_pairs(num=negative_num, positive=False)\n",
    "        \n",
    "    def _build_pairs(self, num, positive):\n",
    "        # NOTE: this runs in O(n^2), but can be sped up\n",
    "        pairs_left = random.choices(self.valid_sample_names, k=num)\n",
    "        pairs_right = []\n",
    "        for left in pairs_left:\n",
    "            cid = self._get_candidate_id(left)\n",
    "            available = [\n",
    "                right\n",
    "                for right in self.valid_sample_names\n",
    "                if right != left and (self._get_candidate_id(left) == self._get_candidate_id(right)) == positive\n",
    "            ]\n",
    "            pairs_right.append(random.choice(available))\n",
    "            \n",
    "        pairs = [(left, right) for left, right in zip(pairs_left, pairs_right)]\n",
    "        return pairs\n",
    "            \n",
    "    def _get_candidate_id(self, sample_name):\n",
    "        return '-'.join(sample_name.split('-')[:2])\n",
    "    \n",
    "    def _get_condition(self, sample_name):\n",
    "        return sample_name.split('-')[2]\n",
    "    \n",
    "    def __len__(self):\n",
    "        return len(self.positive_pairs) + len(self.negative_pairs)"
   ]
  },
  {
   "cell_type": "code",
   "execution_count": 33,
   "metadata": {},
   "outputs": [
    {
     "data": {
      "text/plain": [
       "(1488, 12000)"
      ]
     },
     "execution_count": 33,
     "metadata": {},
     "output_type": "execute_result"
    }
   ],
   "source": [
    "ARFace_sampler = ARFaceSampler(\n",
    "    conditions=[f'{i}' for i in range(8, 14)] + [f'{i}' for i in range(21, 27)],\n",
    "    positive_num=6000, negative_num=6000\n",
    ")\n",
    "# ARFace_sampler = ARFaceSampler(conditions=('1', '2', '3', '4'), positive_num=6000, negative_num=6000)\n",
    "len(ARFace_sampler.valid_sample_names), len(ARFace_sampler)"
   ]
  },
  {
   "cell_type": "markdown",
   "metadata": {},
   "source": [
    "## The original model"
   ]
  },
  {
   "cell_type": "code",
   "execution_count": 34,
   "metadata": {},
   "outputs": [],
   "source": [
    "all_scores = {}\n",
    "all_acc = {}\n",
    "\n",
    "def record_scores_and_acc(scores, acc, name, name2=None):\n",
    "    all_scores[name] = scores\n",
    "    all_acc[name] = acc"
   ]
  },
  {
   "cell_type": "code",
   "execution_count": 35,
   "metadata": {},
   "outputs": [
    {
     "name": "stdout",
     "output_type": "stream",
     "text": [
      "AR Face - accuray:0.82125 (1-0.17875), threshold:0.25450000000000106\n"
     ]
    },
    {
     "data": {
      "image/png": "[encoded data removed]",
      "text/plain": [
       "<PIL.Image.Image image mode=RGB size=432x288 at 0x7FA850747128>"
      ]
     },
     "metadata": {},
     "output_type": "display_data"
    }
   ],
   "source": [
    "def _get_feature(feat_dir, suffix, ends_with='.npy'):\n",
    "    return np.load(op.join(feat_dir, suffix) + ends_with)\n",
    "\n",
    "\n",
    "feat_dir = './saved_features/ARFace/ir_se50_original/'\n",
    "scores = []\n",
    "for pair in ARFace_sampler.positive_pairs + ARFace_sampler.negative_pairs:\n",
    "    p0_feat = _get_feature(feat_dir, pair[0]).squeeze(0)\n",
    "    p1_feat = _get_feature(feat_dir, pair[1]).squeeze(0)\n",
    "    scores.append(score_fn_original(p0_feat, p1_feat))\n",
    "is_sames = np.array([True for _ in range(len(ARFace_sampler.positive_pairs))] +\n",
    "                    [False for _ in range(len(ARFace_sampler.negative_pairs))])\n",
    "scores = np.array(scores)\n",
    "acc = evaluate_and_plot(scores, is_sames, nrof_folds=10)\n",
    "record_scores_and_acc(scores, acc, name='original_ArcFace')"
   ]
  },
  {
   "cell_type": "code",
   "execution_count": 36,
   "metadata": {},
   "outputs": [
    {
     "ename": "SyntaxError",
     "evalue": "invalid syntax (<ipython-input-36-bca4ff6cfea9>, line 38)",
     "output_type": "error",
     "traceback": [
      "\u001b[0;36m  File \u001b[0;32m\"<ipython-input-36-bca4ff6cfea9>\"\u001b[0;36m, line \u001b[0;32m38\u001b[0m\n\u001b[0;31m    is_sames =\u001b[0m\n\u001b[0m               ^\u001b[0m\n\u001b[0;31mSyntaxError\u001b[0m\u001b[0;31m:\u001b[0m invalid syntax\n"
     ]
    }
   ],
   "source": [
    "def evaluate_our_model_ARFace(model_name, score_functions, score_names,\n",
    "                              pairs, is_sames):\n",
    "    def _get_feature(feat_dir, suffix, ends_with='.npz'):\n",
    "        return np.load(op.join(feat_dir, suffix) + ends_with)\n",
    "    \n",
    "    learner.load_state(conf, f'{model_name}.pth', model_only=True, from_save_folder=True, strict=True, model_atten=True)\n",
    "    learner.model.eval()\n",
    "    learner.model_attention.eval()\n",
    "    \n",
    "    feat_dir = f'./saved_features/ARFace/{model_name}/'\n",
    "    scores_dict = {score_name: [] for score_name in score_names}\n",
    "    for pair in pairs:\n",
    "        p0_feat = _get_feature(feat_dir, pair[0])['feat_map'].squeeze(0)\n",
    "        p1_feat = _get_feature(feat_dir, pair[1])['feat_map'].squeeze(0)\n",
    "        for score_name, score_fn in zip(score_names, score_functions):\n",
    "            scores_dict[score_name].append(score_fn(p0_feat, p1_feat))\n",
    "    \n",
    "    for score_name in score_names:\n",
    "        print(f'---- Name: {score_name} ----')\n",
    "        scores = np.array(scores_dict[score_name]).squeeze()\n",
    "        acc = evaluate_and_plot(scores, is_sames, nrof_folds=10)\n",
    "        record_scores_and_acc(scores, acc, name=f'{model_name}_{score_name}')\n",
    "\n",
    "\n",
    "model_names = [\n",
    "    '2019-09-02-08-21_accuracy:0.9968333333333333_step:436692_CosFace',\n",
    "    '2019-08-30-07-36_accuracy:0.9953333333333333_step:655047_None',\n",
    "#     '2019-09-01-15-30_accuracy:0.9946666666666667_step:218346_CosFace',\n",
    "#     '2019-08-25-14-35_accuracy:0.9931666666666666_step:218349_None',\n",
    "]\n",
    "score_names = [\n",
    "    'uniform_weight', 'data_corr_stats', 'learned_weight', \n",
    "]\n",
    "pairs = ARFace_sampler.positive_pairs + ARFace_sampler.negative_pairs\n",
    "is_sames = np.array([True for _ in range(len(ARFace_sampler.positive_pairs))] +\n",
    "                    [False for _ in range(len(ARFace_sampler.negative_pairs))])\n",
    "\n",
    "is_sames = \n",
    "for model_name in model_names:\n",
    "    fixed_weight = np.load(f'/tmp3/biolin/data/insightFace_pytorch/{model_name}.npy')\n",
    "    fixed_weight /= fixed_weight.sum()\n",
    "    score_functions = [\n",
    "        lambda p0_feat, p1_feat: score_fn_ours(p0_feat, p1_feat, learner, attention_strategy='uniform'),\n",
    "        lambda p0_feat, p1_feat: score_fn_ours(p0_feat, p1_feat, learner, attention_strategy='fixed',\n",
    "                                               attention_weight=fixed_weight),\n",
    "        lambda p0_feat, p1_feat: score_fn_ours(p0_feat, p1_feat, learner, attention_strategy='learned'),\n",
    "        \n",
    "    ]\n",
    "    print(f'====== Evaluating on our model ({model_name}) ======')\n",
    "    evaluate_our_model_ARFace(model_name, score_functions, score_names, pairs, is_sames)\n",
    "    print('\\n')"
   ]
  },
  {
   "cell_type": "code",
   "execution_count": null,
   "metadata": {},
   "outputs": [],
   "source": [
    "all_acc_ARFace = all_acc\n",
    "all_scores_ARFace = all_scores"
   ]
  },
  {
   "cell_type": "code",
   "execution_count": null,
   "metadata": {},
   "outputs": [],
   "source": [
    "df = pd.DataFrame(all_scores)"
   ]
  },
  {
   "cell_type": "code",
   "execution_count": null,
   "metadata": {},
   "outputs": [],
   "source": [
    "to_plot_df = df.corr()[['original_ArcFace']]\n",
    "to_plot_df = to_plot_df.rename(columns={'original_ArcFace': 'correlation'})\n",
    "to_plot_df['accuracy'] = pd.DataFrame(all_acc, index=['accuracy']).T['accuracy']\n",
    "to_plot_df\n",
    "# sns.heatmap(to_plot_df, annot=True, fmt=\"f\", )"
   ]
  },
  {
   "cell_type": "code",
   "execution_count": 30,
   "metadata": {},
   "outputs": [
    {
     "data": {
      "text/html": [
       "<div>\n",
       "<style scoped>\n",
       "    .dataframe tbody tr th:only-of-type {\n",
       "        vertical-align: middle;\n",
       "    }\n",
       "\n",
       "    .dataframe tbody tr th {\n",
       "        vertical-align: top;\n",
       "    }\n",
       "\n",
       "    .dataframe thead th {\n",
       "        text-align: right;\n",
       "    }\n",
       "</style>\n",
       "<table border=\"1\" class=\"dataframe\">\n",
       "  <thead>\n",
       "    <tr style=\"text-align: right;\">\n",
       "      <th></th>\n",
       "      <th>face1</th>\n",
       "      <th>face2</th>\n",
       "      <th>is_same</th>\n",
       "    </tr>\n",
       "  </thead>\n",
       "  <tbody>\n",
       "    <tr>\n",
       "      <td>0</td>\n",
       "      <td>m-044-25</td>\n",
       "      <td>m-044-9</td>\n",
       "      <td>True</td>\n",
       "    </tr>\n",
       "    <tr>\n",
       "      <td>1</td>\n",
       "      <td>m-010-9</td>\n",
       "      <td>m-010-11</td>\n",
       "      <td>True</td>\n",
       "    </tr>\n",
       "    <tr>\n",
       "      <td>2</td>\n",
       "      <td>w-040-26</td>\n",
       "      <td>w-040-23</td>\n",
       "      <td>True</td>\n",
       "    </tr>\n",
       "    <tr>\n",
       "      <td>3</td>\n",
       "      <td>m-075-10</td>\n",
       "      <td>m-075-22</td>\n",
       "      <td>True</td>\n",
       "    </tr>\n",
       "    <tr>\n",
       "      <td>4</td>\n",
       "      <td>w-012-12</td>\n",
       "      <td>w-012-11</td>\n",
       "      <td>True</td>\n",
       "    </tr>\n",
       "    <tr>\n",
       "      <td>...</td>\n",
       "      <td>...</td>\n",
       "      <td>...</td>\n",
       "      <td>...</td>\n",
       "    </tr>\n",
       "    <tr>\n",
       "      <td>11995</td>\n",
       "      <td>w-034-9</td>\n",
       "      <td>m-004-24</td>\n",
       "      <td>False</td>\n",
       "    </tr>\n",
       "    <tr>\n",
       "      <td>11996</td>\n",
       "      <td>w-040-9</td>\n",
       "      <td>m-004-13</td>\n",
       "      <td>False</td>\n",
       "    </tr>\n",
       "    <tr>\n",
       "      <td>11997</td>\n",
       "      <td>m-045-8</td>\n",
       "      <td>m-033-11</td>\n",
       "      <td>False</td>\n",
       "    </tr>\n",
       "    <tr>\n",
       "      <td>11998</td>\n",
       "      <td>m-023-9</td>\n",
       "      <td>m-036-12</td>\n",
       "      <td>False</td>\n",
       "    </tr>\n",
       "    <tr>\n",
       "      <td>11999</td>\n",
       "      <td>m-043-10</td>\n",
       "      <td>w-013-9</td>\n",
       "      <td>False</td>\n",
       "    </tr>\n",
       "  </tbody>\n",
       "</table>\n",
       "<p>12000 rows × 3 columns</p>\n",
       "</div>"
      ],
      "text/plain": [
       "          face1     face2  is_same\n",
       "0      m-044-25   m-044-9     True\n",
       "1       m-010-9  m-010-11     True\n",
       "2      w-040-26  w-040-23     True\n",
       "3      m-075-10  m-075-22     True\n",
       "4      w-012-12  w-012-11     True\n",
       "...         ...       ...      ...\n",
       "11995   w-034-9  m-004-24    False\n",
       "11996   w-040-9  m-004-13    False\n",
       "11997   m-045-8  m-033-11    False\n",
       "11998   m-023-9  m-036-12    False\n",
       "11999  m-043-10   w-013-9    False\n",
       "\n",
       "[12000 rows x 3 columns]"
      ]
     },
     "execution_count": 30,
     "metadata": {},
     "output_type": "execute_result"
    }
   ],
   "source": [
    "df = pd.DataFrame(ARFace_sampler.positive_pairs + ARFace_sampler.negative_pairs)\n",
    "df['is_same'] = np.array([True for _ in range(len(ARFace_sampler.positive_pairs))] +\n",
    "                         [False for _ in range(len(ARFace_sampler.negative_pairs))])\n",
    "df = df.rename(columns={0: 'face1', 1: 'face2'})\n",
    "df"
   ]
  },
  {
   "cell_type": "code",
   "execution_count": 32,
   "metadata": {},
   "outputs": [],
   "source": [
    "# df.to_csv(\"./saved_features/ARFace_pairs/1.csv\")"
   ]
  },
  {
   "cell_type": "code",
   "execution_count": null,
   "metadata": {},
   "outputs": [],
   "source": []
  },
  {
   "cell_type": "code",
   "execution_count": 12,
   "metadata": {},
   "outputs": [
    {
     "data": {
      "text/html": [
       "<div>\n",
       "<style scoped>\n",
       "    .dataframe tbody tr th:only-of-type {\n",
       "        vertical-align: middle;\n",
       "    }\n",
       "\n",
       "    .dataframe tbody tr th {\n",
       "        vertical-align: top;\n",
       "    }\n",
       "\n",
       "    .dataframe thead th {\n",
       "        text-align: right;\n",
       "    }\n",
       "</style>\n",
       "<table border=\"1\" class=\"dataframe\">\n",
       "  <thead>\n",
       "    <tr style=\"text-align: right;\">\n",
       "      <th></th>\n",
       "      <th>correlation</th>\n",
       "      <th>accuracy</th>\n",
       "    </tr>\n",
       "  </thead>\n",
       "  <tbody>\n",
       "    <tr>\n",
       "      <td>original_ArcFace</td>\n",
       "      <td>1.000000</td>\n",
       "      <td>0.822417</td>\n",
       "    </tr>\n",
       "    <tr>\n",
       "      <td>2019-09-02-08-21_accuracy:0.9968333333333333_step:436692_CosFace_uniform_weight</td>\n",
       "      <td>0.970318</td>\n",
       "      <td>0.850583</td>\n",
       "    </tr>\n",
       "    <tr>\n",
       "      <td>2019-09-02-08-21_accuracy:0.9968333333333333_step:436692_CosFace_data_corr_stats</td>\n",
       "      <td>0.970324</td>\n",
       "      <td>0.858667</td>\n",
       "    </tr>\n",
       "    <tr>\n",
       "      <td>2019-09-02-08-21_accuracy:0.9968333333333333_step:436692_CosFace_learned_weight</td>\n",
       "      <td>0.970339</td>\n",
       "      <td>0.841500</td>\n",
       "    </tr>\n",
       "    <tr>\n",
       "      <td>2019-08-30-07-36_accuracy:0.9953333333333333_step:655047_None_uniform_weight</td>\n",
       "      <td>0.974512</td>\n",
       "      <td>0.816417</td>\n",
       "    </tr>\n",
       "    <tr>\n",
       "      <td>2019-08-30-07-36_accuracy:0.9953333333333333_step:655047_None_data_corr_stats</td>\n",
       "      <td>0.974649</td>\n",
       "      <td>0.815500</td>\n",
       "    </tr>\n",
       "    <tr>\n",
       "      <td>2019-08-30-07-36_accuracy:0.9953333333333333_step:655047_None_learned_weight</td>\n",
       "      <td>0.964821</td>\n",
       "      <td>0.825500</td>\n",
       "    </tr>\n",
       "  </tbody>\n",
       "</table>\n",
       "</div>"
      ],
      "text/plain": [
       "                                                    correlation  accuracy\n",
       "original_ArcFace                                       1.000000  0.822417\n",
       "2019-09-02-08-21_accuracy:0.9968333333333333_st...     0.970318  0.850583\n",
       "2019-09-02-08-21_accuracy:0.9968333333333333_st...     0.970324  0.858667\n",
       "2019-09-02-08-21_accuracy:0.9968333333333333_st...     0.970339  0.841500\n",
       "2019-08-30-07-36_accuracy:0.9953333333333333_st...     0.974512  0.816417\n",
       "2019-08-30-07-36_accuracy:0.9953333333333333_st...     0.974649  0.815500\n",
       "2019-08-30-07-36_accuracy:0.9953333333333333_st...     0.964821  0.825500"
      ]
     },
     "execution_count": 12,
     "metadata": {},
     "output_type": "execute_result"
    }
   ],
   "source": [
    "to_plot_df = df.corr()[['original_ArcFace']]\n",
    "to_plot_df = to_plot_df.rename(columns={'original_ArcFace': 'correlation'})\n",
    "to_plot_df['accuracy'] = pd.DataFrame(all_acc, index=['accuracy']).T['accuracy']\n",
    "to_plot_df\n",
    "# sns.heatmap(to_plot_df, annot=True, fmt=\"f\", )"
   ]
  },
  {
   "cell_type": "code",
   "execution_count": 19,
   "metadata": {},
   "outputs": [
    {
     "data": {
      "text/html": [
       "<div>\n",
       "<style scoped>\n",
       "    .dataframe tbody tr th:only-of-type {\n",
       "        vertical-align: middle;\n",
       "    }\n",
       "\n",
       "    .dataframe tbody tr th {\n",
       "        vertical-align: top;\n",
       "    }\n",
       "\n",
       "    .dataframe thead th {\n",
       "        text-align: right;\n",
       "    }\n",
       "</style>\n",
       "<table border=\"1\" class=\"dataframe\">\n",
       "  <thead>\n",
       "    <tr style=\"text-align: right;\">\n",
       "      <th></th>\n",
       "      <th>0</th>\n",
       "      <th>1</th>\n",
       "      <th>is_same</th>\n",
       "    </tr>\n",
       "  </thead>\n",
       "  <tbody>\n",
       "    <tr>\n",
       "      <td>0</td>\n",
       "      <td>w-016-23</td>\n",
       "      <td>w-016-11</td>\n",
       "      <td>True</td>\n",
       "    </tr>\n",
       "    <tr>\n",
       "      <td>1</td>\n",
       "      <td>m-043-22</td>\n",
       "      <td>m-043-9</td>\n",
       "      <td>True</td>\n",
       "    </tr>\n",
       "    <tr>\n",
       "      <td>2</td>\n",
       "      <td>m-005-10</td>\n",
       "      <td>m-005-22</td>\n",
       "      <td>True</td>\n",
       "    </tr>\n",
       "    <tr>\n",
       "      <td>3</td>\n",
       "      <td>m-005-23</td>\n",
       "      <td>m-005-8</td>\n",
       "      <td>True</td>\n",
       "    </tr>\n",
       "    <tr>\n",
       "      <td>4</td>\n",
       "      <td>w-050-25</td>\n",
       "      <td>w-050-26</td>\n",
       "      <td>True</td>\n",
       "    </tr>\n",
       "    <tr>\n",
       "      <td>...</td>\n",
       "      <td>...</td>\n",
       "      <td>...</td>\n",
       "      <td>...</td>\n",
       "    </tr>\n",
       "    <tr>\n",
       "      <td>11995</td>\n",
       "      <td>m-054-25</td>\n",
       "      <td>m-065-25</td>\n",
       "      <td>False</td>\n",
       "    </tr>\n",
       "    <tr>\n",
       "      <td>11996</td>\n",
       "      <td>w-044-24</td>\n",
       "      <td>w-049-8</td>\n",
       "      <td>False</td>\n",
       "    </tr>\n",
       "    <tr>\n",
       "      <td>11997</td>\n",
       "      <td>m-048-8</td>\n",
       "      <td>m-036-21</td>\n",
       "      <td>False</td>\n",
       "    </tr>\n",
       "    <tr>\n",
       "      <td>11998</td>\n",
       "      <td>m-008-13</td>\n",
       "      <td>m-010-10</td>\n",
       "      <td>False</td>\n",
       "    </tr>\n",
       "    <tr>\n",
       "      <td>11999</td>\n",
       "      <td>w-020-8</td>\n",
       "      <td>m-014-25</td>\n",
       "      <td>False</td>\n",
       "    </tr>\n",
       "  </tbody>\n",
       "</table>\n",
       "<p>12000 rows × 3 columns</p>\n",
       "</div>"
      ],
      "text/plain": [
       "              0         1  is_same\n",
       "0      w-016-23  w-016-11     True\n",
       "1      m-043-22   m-043-9     True\n",
       "2      m-005-10  m-005-22     True\n",
       "3      m-005-23   m-005-8     True\n",
       "4      w-050-25  w-050-26     True\n",
       "...         ...       ...      ...\n",
       "11995  m-054-25  m-065-25    False\n",
       "11996  w-044-24   w-049-8    False\n",
       "11997   m-048-8  m-036-21    False\n",
       "11998  m-008-13  m-010-10    False\n",
       "11999   w-020-8  m-014-25    False\n",
       "\n",
       "[12000 rows x 3 columns]"
      ]
     },
     "execution_count": 19,
     "metadata": {},
     "output_type": "execute_result"
    }
   ],
   "source": [
    "df = pd.DataFrame(ARFace_sampler.positive_pairs + ARFace_sampler.negative_pairs)\n",
    "df['is_same'] = np.array([True for _ in range(len(ARFace_sampler.positive_pairs))] +\n",
    "                         [False for _ in range(len(ARFace_sampler.negative_pairs))])\n",
    "df"
   ]
  },
  {
   "cell_type": "code",
   "execution_count": null,
   "metadata": {},
   "outputs": [],
   "source": []
  },
  {
   "cell_type": "code",
   "execution_count": null,
   "metadata": {},
   "outputs": [],
   "source": []
  },
  {
   "cell_type": "code",
   "execution_count": null,
   "metadata": {},
   "outputs": [],
   "source": []
  },
  {
   "cell_type": "markdown",
   "metadata": {},
   "source": [
    "# Evaluate on IJB-C"
   ]
  },
  {
   "cell_type": "code",
   "execution_count": 4,
   "metadata": {},
   "outputs": [
    {
     "data": {
      "text/plain": [
       "31316"
      ]
     },
     "execution_count": 4,
     "metadata": {},
     "output_type": "execute_result"
    }
   ],
   "source": [
    "loader = torch.utils.data.DataLoader(\n",
    "    IJBCVerificationPathDataset('/tmp3/zhe2325138/IJB/IJB-C/', occlusion_lower_bound=1, leave_ratio=0.002),\n",
    "    batch_size=1, shuffle=False\n",
    ")\n",
    "len(loader)"
   ]
  },
  {
   "cell_type": "code",
   "execution_count": 5,
   "metadata": {},
   "outputs": [],
   "source": [
    "def _get_feature_original(feat_dir, suffixes, ends_with='.npy'):\n",
    "    return np.concatenate([\n",
    "        np.load(op.join(feat_dir, suffix[0]) + ends_with)\n",
    "        for suffix in suffixes\n",
    "    ], axis=0)\n",
    "\n",
    "\n",
    "def _get_feature_ours(feat_dir, suffixes, ends_with='.npz'):\n",
    "#     print(op.join(feat_dir, suffixes[0][0]) + ends_with)\n",
    "    return np.concatenate([\n",
    "        np.load(op.join(feat_dir, suffix[0]) + ends_with)['feat_map']\n",
    "        for suffix in suffixes\n",
    "    ], axis=0)\n",
    "\n",
    "\n",
    "def run_IJBC_verification(loader, feat_dir, compare_strategy, _get_feature, score_fn, score_fn_kargs,\n",
    "                          learner=None, attention_strategy=None):\n",
    "    assert compare_strategy in ['compare_only_first_img', 'mean_comparison']\n",
    "    is_sames = []\n",
    "    scores = []\n",
    "    init_time = time.time()\n",
    "    ignored_count = 0\n",
    "    for i, pair in enumerate(loader):\n",
    "        if i % 1000 == 0:\n",
    "            print(f\"Processing match {i}, elapsed {time.time() - init_time:.1f} seconds\")\n",
    "        if len(pair['enroll_path_suffixes']) == 0 or len(pair['verif_path_suffixes']) == 0:\n",
    "            ignored_count += 1\n",
    "            continue\n",
    "\n",
    "        if compare_strategy == 'compare_only_first_img':\n",
    "            enroll_feature = _get_feature(feat_dir, pair['enroll_path_suffixes'][:1]).squeeze(0)\n",
    "            verif_feature = _get_feature(feat_dir, pair['verif_path_suffixes'][:1]).squeeze(0)\n",
    "        elif compare_strategy == 'mean_comparison':\n",
    "            enroll_feature = _get_feature(feat_dir, pair['enroll_path_suffixes']).mean(axis=0)\n",
    "            verif_feature = _get_feature(feat_dir, pair['verif_path_suffixes']).mean(axis=0)\n",
    "        else:\n",
    "            raise NotImplementedError\n",
    "        score = score_fn(enroll_feature, verif_feature, **score_fn_kargs)\n",
    "        scores.append(score)\n",
    "        is_sames.append(pair['is_same'].cpu().numpy().astype(np.bool))\n",
    "    \n",
    "    print(f'{ignored_count} pairs are ignored since one of the template has no valid image.')\n",
    "    scores = np.array(scores).squeeze()\n",
    "    is_sames = np.array(is_sames).squeeze().astype(np.bool)\n",
    "    return scores, is_sames"
   ]
  },
  {
   "cell_type": "code",
   "execution_count": 6,
   "metadata": {},
   "outputs": [],
   "source": [
    "all_scores = {}\n",
    "all_acc = {}\n",
    "\n",
    "def record_scores_and_acc(scores, acc, name, name2=None):\n",
    "    all_scores[name] = scores\n",
    "    all_acc[name] = acc"
   ]
  },
  {
   "cell_type": "code",
   "execution_count": null,
   "metadata": {},
   "outputs": [],
   "source": [
    "scores, is_sames = run_IJBC_verification(\n",
    "    loader, feat_dir='./saved_features/IJB-C/ir_se50_original/',\n",
    "    score_fn=score_fn_original, _get_feature=_get_feature_original,\n",
    "    compare_strategy='compare_only_first_img', score_fn_kargs={}\n",
    ")\n",
    "acc = evaluate_and_plot(scores, is_sames, nrof_folds=10, dataset_name='IJBC')\n",
    "all_scores['original_ArcFace'] = scores\n",
    "all_acc['original_ArcFace'] = acc"
   ]
  },
  {
   "cell_type": "code",
   "execution_count": null,
   "metadata": {
    "scrolled": false
   },
   "outputs": [],
   "source": [
    "model_name = '2019-09-02-08-21_accuracy:0.9968333333333333_step:436692_CosFace'\n",
    "fixed_weight = np.load(f'/tmp3/biolin/data/insightFace_pytorch/{model_name}.npy')\n",
    "fixed_weight /= fixed_weight.sum()\n",
    "\n",
    "for attention_strategy in ['uniform', 'learned', 'fixed']:\n",
    "    print(f'===== attention_strategy: {attention_strategy} =====')\n",
    "    scores, is_sames = run_IJBC_verification(\n",
    "        loader, feat_dir=f'./saved_features/IJB-C/{model_name}',\n",
    "        score_fn=score_fn_ours, _get_feature=_get_feature_ours,\n",
    "        compare_strategy='compare_only_first_img',\n",
    "        score_fn_kargs={'learner': learner, 'attention_strategy': attention_strategy,\n",
    "                        'attention_weight': fixed_weight}\n",
    "    )\n",
    "    acc = evaluate_and_plot(scores, is_sames, nrof_folds=10, dataset_name='IJBC')\n",
    "\n",
    "    all_scores[f'{model_name}_{attention_strategy}'] = scores\n",
    "    all_acc[f'{model_name}_{attention_strategy}'] = acc"
   ]
  },
  {
   "cell_type": "code",
   "execution_count": null,
   "metadata": {},
   "outputs": [],
   "source": [
    "all_scores"
   ]
  },
  {
   "cell_type": "code",
   "execution_count": null,
   "metadata": {},
   "outputs": [],
   "source": [
    "all_acc"
   ]
  },
  {
   "cell_type": "markdown",
   "metadata": {},
   "source": [
    "# IJB-A"
   ]
  },
  {
   "cell_type": "code",
   "execution_count": 4,
   "metadata": {},
   "outputs": [],
   "source": [
    "all_scores = {}\n",
    "all_acc = {}\n",
    "\n",
    "def record_scores_and_acc(scores, acc, name, name2=None):\n",
    "    all_scores[name] = scores\n",
    "    all_acc[name] = acc\n",
    "    \n",
    "shuffle_order = np.arange(len(IJBAVerificationDataset()))\n",
    "np.random.shuffle(shuffle_order)"
   ]
  },
  {
   "cell_type": "code",
   "execution_count": 5,
   "metadata": {},
   "outputs": [],
   "source": [
    "'''\n",
    "For IJB-A, I save features of t1 and t2 \"for each comparison\" and the corresponding label (is same or not)\n",
    "'''\n",
    "def _get_feature(fname):\n",
    "    npz = np.load(fname)\n",
    "    return npz['f1'], npz['f2'], npz['same']\n",
    "\n",
    "def run_IJBA_verification(feat_dir, score_fn, score_fn_kargs, shuffle_order,\n",
    "                          learner=None, attention_strategy=None, ):\n",
    "    is_sames = []\n",
    "    scores = []\n",
    "    init_time = time.time()\n",
    "    fnames = sorted(glob(op.join(feat_dir, '*.npz')))\n",
    "    fnames = [fnames[i] for i in shuffle_order]\n",
    "    print(len(fnames))\n",
    "    for i, fname in enumerate(fnames):\n",
    "        if i % 500 == 0:\n",
    "            print(f\"Processing match {i}, elapsed {time.time() - init_time:.1f} seconds\")\n",
    "        f1, f2, is_same = _get_feature(fname)\n",
    "        score = score_fn(f1, f2, **score_fn_kargs)\n",
    "        score = score.cpu().numpy() if torch.is_tensor(score) else score\n",
    "        scores.append(score)\n",
    "        is_sames.append(is_same.astype(np.bool))\n",
    "    \n",
    "    scores = np.array(scores).squeeze()\n",
    "    is_sames = np.array(is_sames).squeeze().astype(np.bool)\n",
    "    return scores, is_sames"
   ]
  },
  {
   "cell_type": "code",
   "execution_count": 6,
   "metadata": {},
   "outputs": [
    {
     "name": "stdout",
     "output_type": "stream",
     "text": [
      "11787\n",
      "Processing match 0, elapsed 0.1 seconds\n",
      "Processing match 500, elapsed 1.0 seconds\n",
      "Processing match 1000, elapsed 2.0 seconds\n",
      "Processing match 1500, elapsed 3.1 seconds\n",
      "Processing match 2000, elapsed 3.9 seconds\n",
      "Processing match 2500, elapsed 4.7 seconds\n",
      "Processing match 3000, elapsed 5.7 seconds\n",
      "Processing match 3500, elapsed 6.5 seconds\n",
      "Processing match 4000, elapsed 7.6 seconds\n",
      "Processing match 4500, elapsed 8.4 seconds\n",
      "Processing match 5000, elapsed 9.2 seconds\n",
      "Processing match 5500, elapsed 10.2 seconds\n",
      "Processing match 6000, elapsed 11.1 seconds\n",
      "Processing match 6500, elapsed 12.2 seconds\n",
      "Processing match 7000, elapsed 13.1 seconds\n",
      "Processing match 7500, elapsed 14.0 seconds\n",
      "Processing match 8000, elapsed 15.0 seconds\n",
      "Processing match 8500, elapsed 15.8 seconds\n",
      "Processing match 9000, elapsed 16.8 seconds\n",
      "Processing match 9500, elapsed 17.8 seconds\n",
      "Processing match 10000, elapsed 18.7 seconds\n",
      "Processing match 10500, elapsed 19.7 seconds\n",
      "Processing match 11000, elapsed 20.8 seconds\n",
      "Processing match 11500, elapsed 21.7 seconds\n"
     ]
    },
    {
     "name": "stderr",
     "output_type": "stream",
     "text": [
      "/home/master/07/zhe2325138/miniconda3/envs/xCos/lib/python3.7/site-packages/numpy/lib/histograms.py:778: RuntimeWarning: Converting input from bool to <class 'numpy.uint8'> for compatibility.\n",
      "  a, weights = _ravel_and_check_weights(a, weights)\n"
     ]
    },
    {
     "name": "stdout",
     "output_type": "stream",
     "text": [
      "(array([ 222, 1772, 3885, 2929, 1614,  808,  388,  140,   22,    7]), array([-0.22281604, -0.10495416,  0.01290771,  0.13076958,  0.24863145,\n",
      "        0.3664933 ,  0.48435518,  0.6022171 ,  0.72007895,  0.8379408 ,\n",
      "        0.9558027 ], dtype=float32)) (array([9984,    0,    0,    0,    0,    0,    0,    0,    0, 1803]), array([0. , 0.1, 0.2, 0.3, 0.4, 0.5, 0.6, 0.7, 0.8, 0.9, 1. ]))\n",
      "IJBC - accuray:0.86332 (1-0.13668), threshold:0.49500000000000133\n"
     ]
    },
    {
     "data": {
      "image/png": "[encoded data removed]",
      "text/plain": [
       "<PIL.Image.Image image mode=RGB size=432x288 at 0x7FAEF013F240>"
      ]
     },
     "metadata": {},
     "output_type": "display_data"
    }
   ],
   "source": [
    "scores, is_sames = run_IJBA_verification(\n",
    "    feat_dir='./saved_features/IJB-A/split1/ir_se50/',\n",
    "    score_fn=score_fn_original, score_fn_kargs={},\n",
    "    shuffle_order=shuffle_order\n",
    ")\n",
    "print(np.histogram(scores), np.histogram(is_sames))\n",
    "acc = evaluate_and_plot(scores, is_sames, nrof_folds=10, dataset_name='IJBC')\n",
    "all_scores['original_ArcFace'] = scores\n",
    "all_acc['original_ArcFace'] = acc"
   ]
  },
  {
   "cell_type": "code",
   "execution_count": 9,
   "metadata": {},
   "outputs": [
    {
     "data": {
      "text/plain": [
       "(0.040202767868084396,\n",
       " 0.0076006814510782335,\n",
       " 0.00099817810864775,\n",
       " 0.8523798059881903,\n",
       " 0.005383359447112312)"
      ]
     },
     "execution_count": 9,
     "metadata": {},
     "output_type": "execute_result"
    }
   ],
   "source": [
    "for far_target in [1e-1, 1e-2, 1e-3]:\n",
    "    mean_tar = calculate_val_by_diff(\n",
    "        thresholds='default', dist=(1 - scores), actual_issame=is_sames, far_target=0.001, ret_acc=True,\n",
    "        nrof_folds=5\n",
    "    )[0]\n",
    "    print(\"TAR@FAR{far_target:.f}:{mean_tar}\")\n",
    "# calculate_val_far()"
   ]
  },
  {
   "cell_type": "code",
   "execution_count": null,
   "metadata": {},
   "outputs": [],
   "source": [
    "evaluate_and_plot_roc"
   ]
  },
  {
   "cell_type": "code",
   "execution_count": 11,
   "metadata": {},
   "outputs": [
    {
     "name": "stdout",
     "output_type": "stream",
     "text": [
      "===== attention_strategy: uniform =====\n",
      "11787\n",
      "Processing match 0, elapsed 0.1 seconds\n",
      "Processing match 500, elapsed 4.2 seconds\n",
      "Processing match 1000, elapsed 8.6 seconds\n",
      "Processing match 1500, elapsed 13.1 seconds\n",
      "Processing match 2000, elapsed 17.4 seconds\n",
      "Processing match 2500, elapsed 21.3 seconds\n",
      "Processing match 3000, elapsed 25.3 seconds\n",
      "Processing match 3500, elapsed 29.5 seconds\n",
      "Processing match 4000, elapsed 34.4 seconds\n",
      "Processing match 4500, elapsed 38.9 seconds\n",
      "Processing match 5000, elapsed 43.3 seconds\n",
      "Processing match 5500, elapsed 47.3 seconds\n",
      "Processing match 6000, elapsed 52.1 seconds\n",
      "Processing match 6500, elapsed 56.2 seconds\n",
      "Processing match 7000, elapsed 59.9 seconds\n",
      "Processing match 7500, elapsed 64.1 seconds\n",
      "Processing match 8000, elapsed 68.5 seconds\n",
      "Processing match 8500, elapsed 72.7 seconds\n",
      "Processing match 9000, elapsed 76.9 seconds\n",
      "Processing match 9500, elapsed 81.1 seconds\n",
      "Processing match 10000, elapsed 85.8 seconds\n",
      "Processing match 10500, elapsed 90.0 seconds\n",
      "Processing match 11000, elapsed 94.2 seconds\n",
      "Processing match 11500, elapsed 98.4 seconds\n",
      "IJBC - accuray:0.85416 (1-0.14584), threshold:0.5000000000000014\n"
     ]
    },
    {
     "data": {
      "image/png": "[encoded data removed]",
      "text/plain": [
       "<PIL.Image.Image image mode=RGB size=432x288 at 0x7FAEF0177CC0>"
      ]
     },
     "metadata": {},
     "output_type": "display_data"
    },
    {
     "name": "stdout",
     "output_type": "stream",
     "text": [
      "===== attention_strategy: learned =====\n",
      "11787\n",
      "Processing match 0, elapsed 0.2 seconds\n",
      "Processing match 500, elapsed 8.8 seconds\n",
      "Processing match 1000, elapsed 13.4 seconds\n",
      "Processing match 1500, elapsed 18.2 seconds\n",
      "Processing match 2000, elapsed 23.0 seconds\n",
      "Processing match 2500, elapsed 27.4 seconds\n",
      "Processing match 3000, elapsed 32.6 seconds\n",
      "Processing match 3500, elapsed 37.3 seconds\n",
      "Processing match 4000, elapsed 42.1 seconds\n",
      "Processing match 4500, elapsed 46.6 seconds\n",
      "Processing match 5000, elapsed 51.4 seconds\n",
      "Processing match 5500, elapsed 56.2 seconds\n",
      "Processing match 6000, elapsed 60.7 seconds\n",
      "Processing match 6500, elapsed 65.7 seconds\n",
      "Processing match 7000, elapsed 70.7 seconds\n",
      "Processing match 7500, elapsed 75.4 seconds\n",
      "Processing match 8000, elapsed 79.9 seconds\n",
      "Processing match 8500, elapsed 84.4 seconds\n",
      "Processing match 9000, elapsed 88.9 seconds\n",
      "Processing match 9500, elapsed 93.6 seconds\n",
      "Processing match 10000, elapsed 98.7 seconds\n",
      "Processing match 10500, elapsed 103.1 seconds\n",
      "Processing match 11000, elapsed 107.5 seconds\n",
      "Processing match 11500, elapsed 112.4 seconds\n",
      "IJBC - accuray:0.85357 (1-0.14643), threshold:0.4985000000000014\n"
     ]
    },
    {
     "data": {
      "image/png": "[encoded data removed]",
      "text/plain": [
       "<PIL.Image.Image image mode=RGB size=432x288 at 0x7FAEF0397080>"
      ]
     },
     "metadata": {},
     "output_type": "display_data"
    },
    {
     "name": "stdout",
     "output_type": "stream",
     "text": [
      "===== attention_strategy: fixed =====\n",
      "11787\n",
      "Processing match 0, elapsed 0.2 seconds\n",
      "Processing match 500, elapsed 4.5 seconds\n",
      "Processing match 1000, elapsed 9.3 seconds\n",
      "Processing match 1500, elapsed 13.6 seconds\n",
      "Processing match 2000, elapsed 18.3 seconds\n",
      "Processing match 2500, elapsed 22.3 seconds\n",
      "Processing match 3000, elapsed 26.4 seconds\n",
      "Processing match 3500, elapsed 30.9 seconds\n",
      "Processing match 4000, elapsed 35.0 seconds\n",
      "Processing match 4500, elapsed 38.6 seconds\n",
      "Processing match 5000, elapsed 42.7 seconds\n",
      "Processing match 5500, elapsed 46.6 seconds\n",
      "Processing match 6000, elapsed 50.6 seconds\n",
      "Processing match 6500, elapsed 55.1 seconds\n",
      "Processing match 7000, elapsed 59.2 seconds\n",
      "Processing match 7500, elapsed 63.6 seconds\n",
      "Processing match 8000, elapsed 67.6 seconds\n",
      "Processing match 8500, elapsed 72.5 seconds\n",
      "Processing match 9000, elapsed 76.6 seconds\n",
      "Processing match 9500, elapsed 80.5 seconds\n",
      "Processing match 10000, elapsed 85.3 seconds\n",
      "Processing match 10500, elapsed 89.2 seconds\n",
      "Processing match 11000, elapsed 93.8 seconds\n",
      "Processing match 11500, elapsed 98.0 seconds\n",
      "IJBC - accuray:0.85357 (1-0.14643), threshold:0.4985000000000014\n"
     ]
    },
    {
     "data": {
      "image/png": "[encoded data removed]",
      "text/plain": [
       "<PIL.Image.Image image mode=RGB size=432x288 at 0x7FAEF01E2F98>"
      ]
     },
     "metadata": {},
     "output_type": "display_data"
    }
   ],
   "source": [
    "model_name = '2019-09-02-08-21_accuracy:0.9968333333333333_step:436692_CosFace'\n",
    "fixed_weight = np.load(f'/tmp3/biolin/data/insightFace_pytorch/{model_name}.npy')\n",
    "fixed_weight /= fixed_weight.sum()\n",
    "\n",
    "for attention_strategy in ['uniform', 'learned', 'fixed']:\n",
    "    print(f'===== attention_strategy: {attention_strategy} =====')\n",
    "    scores, is_sames = run_IJBA_verification(\n",
    "        feat_dir=f'./saved_features/IJB-A/split1/{model_name}',\n",
    "        score_fn=score_fn_ours,\n",
    "        score_fn_kargs={'learner': learner, 'attention_strategy': attention_strategy,\n",
    "                        'attention_weight': fixed_weight},\n",
    "        shuffle_order=shuffle_order\n",
    "    )\n",
    "    acc = evaluate_and_plot(scores, is_sames, nrof_folds=10, dataset_name='IJBC')\n",
    "\n",
    "    all_scores[f'{model_name}_{attention_strategy}'] = scores\n",
    "    all_acc[f'{model_name}_{attention_strategy}'] = acc"
   ]
  },
  {
   "cell_type": "code",
   "execution_count": null,
   "metadata": {},
   "outputs": [],
   "source": []
  },
  {
   "cell_type": "code",
   "execution_count": null,
   "metadata": {},
   "outputs": [],
   "source": []
  },
  {
   "cell_type": "code",
   "execution_count": null,
   "metadata": {},
   "outputs": [],
   "source": []
  },
  {
   "cell_type": "markdown",
   "metadata": {},
   "source": [
    "# The following codes are just testing\n",
    "## Evaluate on LFW (just testing)"
   ]
  },
  {
   "cell_type": "code",
   "execution_count": 7,
   "metadata": {},
   "outputs": [
    {
     "data": {
      "text/plain": [
       "torch.Size([10, 1, 7, 7])"
      ]
     },
     "execution_count": 7,
     "metadata": {},
     "output_type": "execute_result"
    }
   ],
   "source": [
    "def getUnitAttention():\n",
    "    x = torch.ones(conf.batch_size//2, 1, 7, 7).cuda()\n",
    "    x /= x.flatten(2).sum(dim=2).repeat(1, 1, x.size(2) * x.size(3)).view_as(x)\n",
    "    return x\n",
    "unit_attention = getUnitAttention()\n",
    "unit_attention.size()"
   ]
  },
  {
   "cell_type": "code",
   "execution_count": 8,
   "metadata": {},
   "outputs": [
    {
     "data": {
      "text/plain": [
       "AttentionXCosNet(\n",
       "  (embedding_net): Sequential(\n",
       "    (0): Conv2d(32, 16, kernel_size=(3, 3), stride=(1, 1), padding=(1, 1))\n",
       "    (1): BatchNorm2d(16, eps=1e-05, momentum=0.1, affine=True, track_running_stats=True)\n",
       "    (2): PReLU(num_parameters=1)\n",
       "  )\n",
       "  (attention): Sequential(\n",
       "    (0): Conv2d(32, 16, kernel_size=(3, 3), stride=(1, 1), padding=(1, 1))\n",
       "    (1): BatchNorm2d(16, eps=1e-05, momentum=0.1, affine=True, track_running_stats=True)\n",
       "    (2): PReLU(num_parameters=1)\n",
       "    (3): Conv2d(16, 1, kernel_size=(3, 3), stride=(1, 1), padding=(1, 1))\n",
       "    (4): BatchNorm2d(1, eps=1e-05, momentum=0.1, affine=True, track_running_stats=True)\n",
       "    (5): PReLU(num_parameters=1)\n",
       "  )\n",
       ")"
      ]
     },
     "execution_count": 8,
     "metadata": {},
     "output_type": "execute_result"
    }
   ],
   "source": [
    "lfw, lfw_issame = get_val_pair(conf.emore_folder, 'lfw')\n",
    "learner.load_state(conf, 'ir_se50.pth', model_only=True, from_save_folder=True, strict=False, model_atten=False)\n",
    "learner.model.eval()\n",
    "learner.model.returnGrid = True  # Remember to reset this before return!\n",
    "learner.model_attention.eval()"
   ]
  },
  {
   "cell_type": "markdown",
   "metadata": {},
   "source": [
    "## Our models (wo/w attention)"
   ]
  },
  {
   "cell_type": "code",
   "execution_count": 9,
   "metadata": {},
   "outputs": [],
   "source": [
    "# %%time\n",
    "# accuracy, best_threshold, roc_curve_tensor = learner.evaluate_attention(\n",
    "#     conf, lfw, lfw_issame, nrof_folds=10, tta=True, attention=unit_attention\n",
    "# )\n",
    "# print('lfw - accuray:{}, threshold:{}'.format(accuracy, best_threshold))\n",
    "# trans.ToPILImage()(roc_curve_tensor)"
   ]
  },
  {
   "cell_type": "code",
   "execution_count": 10,
   "metadata": {},
   "outputs": [],
   "source": [
    "# %%time\n",
    "# accuracy, best_threshold, roc_curve_tensor = learner.evaluate_attention(\n",
    "#     conf, lfw, lfw_issame, nrof_folds=10, tta=True, attention=None\n",
    "# )\n",
    "# print('lfw - accuray:{}, threshold:{}'.format(accuracy, best_threshold))\n",
    "# trans.ToPILImage()(roc_curve_tensor)"
   ]
  },
  {
   "cell_type": "markdown",
   "metadata": {},
   "source": [
    "## The original model"
   ]
  },
  {
   "cell_type": "code",
   "execution_count": 11,
   "metadata": {},
   "outputs": [
    {
     "name": "stdout",
     "output_type": "stream",
     "text": [
      "lfw - accuray:0.9953333333333333, threshold:0.28250000000000103\n",
      "CPU times: user 17min 45s, sys: 42.8 s, total: 18min 28s\n",
      "Wall time: 1min 44s\n"
     ]
    },
    {
     "data": {
      "image/png": "[encoded data removed]",
      "text/plain": [
       "<PIL.Image.Image image mode=RGB size=432x288 at 0x7F0F380ECB00>"
      ]
     },
     "execution_count": 11,
     "metadata": {},
     "output_type": "execute_result"
    }
   ],
   "source": [
    "%%time\n",
    "learner.load_state(conf, 'ir_se50.pth', model_only=True, from_save_folder=True, strict=False, model_atten=False)\n",
    "cosines = learner.get_original_cosines(lfw, conf, tta=True)\n",
    "accuracy, best_threshold, roc_curve_tensor = learner.evaluate_and_plot_roc(cosines, lfw_issame, nrof_folds=10)\n",
    "print('lfw - accuray:{}, threshold:{}'.format(accuracy, best_threshold))\n",
    "trans.ToPILImage()(roc_curve_tensor)"
   ]
  },
  {
   "cell_type": "code",
   "execution_count": 50,
   "metadata": {},
   "outputs": [
    {
     "data": {
      "text/plain": [
       "(0.9933333333333334,\n",
       " 0.006146362971528595,\n",
       " 0.0013333333333333335,\n",
       " 0.9959999999999999,\n",
       " 0.0027080128015453224)"
      ]
     },
     "execution_count": 50,
     "metadata": {},
     "output_type": "execute_result"
    }
   ],
   "source": [
    "calculate_val_by_diff(\n",
    "    thresholds='default', dist=(1 - cosines), actual_issame=lfw_issame,\n",
    "    far_target=0.001, ret_acc=True)"
   ]
  },
  {
   "cell_type": "code",
   "execution_count": 29,
   "metadata": {},
   "outputs": [
    {
     "data": {
      "text/plain": [
       "(0.9936666666666667, 0.002, 0.9958333333333333)"
      ]
     },
     "execution_count": 29,
     "metadata": {},
     "output_type": "execute_result"
    }
   ],
   "source": [
    "calculate_val_far((1 - 0.28250000000000103), (1 - cosines), lfw_issame, ret_acc=True)"
   ]
  },
  {
   "cell_type": "code",
   "execution_count": null,
   "metadata": {},
   "outputs": [],
   "source": []
  }
 ],
 "metadata": {
  "hide_input": false,
  "kernelspec": {
   "display_name": "xCos",
   "language": "python",
   "name": "xcos"
  },
  "language_info": {
   "codemirror_mode": {
    "name": "ipython",
    "version": 3
   },
   "file_extension": ".py",
   "mimetype": "text/x-python",
   "name": "python",
   "nbconvert_exporter": "python",
   "pygments_lexer": "ipython3",
   "version": "3.7.0"
  }
 },
 "nbformat": 4,
 "nbformat_minor": 2
}
