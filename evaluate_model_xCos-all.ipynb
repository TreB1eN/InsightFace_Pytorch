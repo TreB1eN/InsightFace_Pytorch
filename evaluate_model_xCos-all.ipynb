{
 "cells": [
  {
   "cell_type": "code",
   "execution_count": 1,
   "metadata": {
    "ExecuteTime": {
     "end_time": "2018-08-06T12:16:01.581503Z",
     "start_time": "2018-08-06T12:16:01.377552Z"
    }
   },
   "outputs": [],
   "source": [
    "# see http://stackoverflow.com/questions/1907993/autoreload-of-modules-in-ipython\n",
    "%load_ext autoreload\n",
    "%autoreload 2\n",
    "%matplotlib inline\n",
    "import pdb"
   ]
  },
  {
   "cell_type": "code",
   "execution_count": 2,
   "metadata": {
    "ExecuteTime": {
     "end_time": "2018-08-06T12:16:02.981513Z",
     "start_time": "2018-08-06T12:16:01.884463Z"
    },
    "scrolled": true
   },
   "outputs": [],
   "source": [
    "import numpy as np\n",
    "from config import get_config\n",
    "import argparse\n",
    "from Learner import face_learner\n",
    "from data.data_pipe import get_val_pair\n",
    "from torchvision import transforms as trans\n",
    "from tqdm import tqdm_notebook as tqdm\n"
   ]
  },
  {
   "cell_type": "code",
   "execution_count": 3,
   "metadata": {
    "ExecuteTime": {
     "end_time": "2018-08-06T12:16:15.802435Z",
     "start_time": "2018-08-06T12:16:15.225902Z"
    }
   },
   "outputs": [],
   "source": [
    "conf = get_config(training=False)\n",
    "conf.batch_size=200 # Why bs_size can only be the number that divide 6000 well?"
   ]
  },
  {
   "cell_type": "code",
   "execution_count": 4,
   "metadata": {
    "ExecuteTime": {
     "end_time": "2018-08-06T12:07:28.254338Z",
     "start_time": "2018-08-06T12:07:25.077127Z"
    }
   },
   "outputs": [
    {
     "name": "stdout",
     "output_type": "stream",
     "text": [
      "{'detachAttentionGradient': True, 'fixed_str': 'ir_se50.pth', 'pretrainedMdl': 'ir_se50.pth', 'data_path': PosixPath('data'), 'work_path': PosixPath('work_space'), 'model_path': PosixPath('work_space/models'), 'log_path': PosixPath('work_space/log'), 'save_path': PosixPath('work_space/save'), 'exp_title': 'test', 'exp_comment': 'CosFace_ExpMS1M_detached_lre-4', 'input_size': [112, 112], 'embedding_size': 1568, 'use_mobilfacenet': False, 'modelType': 'ArcFace', 'net_depth': 50, 'drop_ratio': 0.6, 'net_mode': 'ir_se', 'device': device(type='cuda', index=0), 'test_transform': Compose(\n",
      "    ToTensor()\n",
      "    Normalize(mean=[0.5, 0.5, 0.5], std=[0.5, 0.5, 0.5])\n",
      "), 'data_mode': 'emore', 'vgg_folder': PosixPath('data/faces_vgg_112x112'), 'ms1m_folder': PosixPath('data/faces_ms1m_112x112'), 'emore_folder': PosixPath('data/faces_webface_112x112'), 'batch_size': 200, 'USE_SOFTMAX': True, 'SOFTMAX_T': 1, 'facebank_path': PosixPath('data/facebank'), 'threshold': 1.5, 'threshold_xCos': 0.2338, 'face_limit': 10, 'min_face_size': 30}\n",
      "ir_se_50 model generated\n"
     ]
    }
   ],
   "source": [
    "learner = face_learner(conf, inference=True)"
   ]
  },
  {
   "cell_type": "code",
   "execution_count": 5,
   "metadata": {},
   "outputs": [
    {
     "data": {
      "text/plain": [
       "torch.Size([100, 1, 7, 7])"
      ]
     },
     "execution_count": 5,
     "metadata": {},
     "output_type": "execute_result"
    }
   ],
   "source": [
    "import torch\n",
    "def getUnitAttention():\n",
    "    x = torch.ones(conf.batch_size//2, 1, 7, 7).cuda()\n",
    "    x /= x.flatten(2).sum(dim=2).repeat(1, 1, x.size(2) * x.size(3)).view_as(x)\n",
    "    return x\n",
    "\n",
    "def getCorrAttention(corr):\n",
    "    x = torch.from_numpy(corr).float().cuda()\n",
    "    print(x.size())\n",
    "    x = x.unsqueeze(0).unsqueeze(0)\n",
    "    x = torch.cat(conf.batch_size//2 * [x])\n",
    "    x /= x.flatten(2).sum(dim=2).repeat(1, 1, x.size(2) * x.size(3)).view_as(x)\n",
    "    print(x.size())\n",
    "    return x\n",
    "\n",
    "unit_attention = getUnitAttention()\n",
    "unit_attention.size()\n",
    "# corr_attention = corrUnitAttention()\n",
    "# corr_attention.size()\n"
   ]
  },
  {
   "cell_type": "code",
   "execution_count": null,
   "metadata": {},
   "outputs": [],
   "source": [
    "# Test patched Cos\n",
    "exdir = 'cosPatchWoTrained'\n",
    "print(exdir)\n",
    "#"
   ]
  },
  {
   "cell_type": "code",
   "execution_count": null,
   "metadata": {
    "ExecuteTime": {
     "end_time": "2018-08-05T08:16:48.699975Z",
     "start_time": "2018-08-05T08:16:48.577620Z"
    }
   },
   "outputs": [],
   "source": [
    "learner.load_state(conf, 'ir_se50.pth', model_only=True, from_save_folder=True, strict=False, model_atten=False)"
   ]
  },
  {
   "cell_type": "code",
   "execution_count": 6,
   "metadata": {
    "ExecuteTime": {
     "end_time": "2018-08-05T08:22:39.844455Z",
     "start_time": "2018-08-05T08:21:51.584778Z"
    },
    "scrolled": false
   },
   "outputs": [],
   "source": [
    "test_datasets = ['lfw', 'vgg2_fp', 'agedb_30', \n",
    "                 'calfw', 'cfp_ff', 'cfp_fp', 'cplfw']\n",
    "def testWithDatasets(test_datasets, conf, learner, attention):\n",
    "    for test_dataset in test_datasets:\n",
    "        pair_imgs, pair_issame = get_val_pair(conf.emore_folder, test_dataset)\n",
    "        accuracy, best_threshold, roc_curve_tensor = learner.evaluate_attention(conf, \n",
    "                                                                      pair_imgs, \n",
    "                                                                      pair_issame, \n",
    "                                                                      nrof_folds=10, \n",
    "                                                                      tta=True, \n",
    "                                                                      attention=attention)\n",
    "        print(test_dataset + ' - accuray:{}, threshold:{}'.format(accuracy, best_threshold))\n",
    "        trans.ToPILImage()(roc_curve_tensor)"
   ]
  },
  {
   "cell_type": "code",
   "execution_count": null,
   "metadata": {},
   "outputs": [],
   "source": [
    "testWithDatasets(test_datasets, conf, learner, unit_attention)"
   ]
  },
  {
   "cell_type": "code",
   "execution_count": null,
   "metadata": {},
   "outputs": [],
   "source": []
  },
  {
   "cell_type": "code",
   "execution_count": null,
   "metadata": {},
   "outputs": [],
   "source": [
    "# corrPlot = learner.plot_CorrBtwXCosAndCos(conf, \n",
    "#                                           lfw, lfw_issame, \n",
    "#                                           nrof_folds=10, tta=True, \n",
    "#                                           attention=unit_attention)\n",
    "# trans.ToPILImage()(corrPlot)"
   ]
  },
  {
   "cell_type": "code",
   "execution_count": null,
   "metadata": {},
   "outputs": [],
   "source": [
    "# lfw, lfw_issame = get_val_pair(conf.emore_folder, 'lfw')\n",
    "# learner.plot_Examples(conf, \n",
    "#                       lfw, lfw_issame, \n",
    "#                       nrof_folds=10, tta=True, \n",
    "#                       attention=unit_attention,\n",
    "#                       exDir=exdir)\n"
   ]
  },
  {
   "cell_type": "code",
   "execution_count": 8,
   "metadata": {},
   "outputs": [
    {
     "name": "stdout",
     "output_type": "stream",
     "text": [
      "cosPatchFtWithMs1M_uniAtten_cos\n"
     ]
    }
   ],
   "source": [
    "# Test patched Cos\n",
    "exdir = 'cosPatchFtWithMs1M_uniAtten_cos'\n",
    "print(exdir)\n",
    "#"
   ]
  },
  {
   "cell_type": "code",
   "execution_count": 11,
   "metadata": {},
   "outputs": [],
   "source": [
    "mdl_name = '2019-08-25-14-35_accuracy:0.9931666666666666_step:218349_None.pth'\n",
    "mdl_name = '2019-09-02-08-21_accuracy:0.9968333333333333_step:436692_CosFace.pth'\n",
    "learner.load_state(conf, mdl_name, model_only=True, from_save_folder=True, strict=True, model_atten=True)"
   ]
  },
  {
   "cell_type": "code",
   "execution_count": 13,
   "metadata": {},
   "outputs": [
    {
     "name": "stdout",
     "output_type": "stream",
     "text": [
      "torch.Size([7, 7])\n",
      "torch.Size([100, 1, 7, 7])\n",
      "lfw - accuray:0.9958333333333333, threshold:0.23250000000000118\n",
      "vgg2_fp - accuray:0.9385999999999999, threshold:0.10800000000000107\n",
      "agedb_30 - accuray:0.9541666666666666, threshold:0.14450000000000102\n",
      "calfw - accuray:0.9476666666666667, threshold:0.18850000000000103\n",
      "cfp_ff - accuray:0.9945714285714287, threshold:0.19000000000000106\n",
      "cfp_fp - accuray:0.9369999999999999, threshold:0.09550000000000107\n",
      "cplfw - accuray:0.8935000000000002, threshold:0.15500000000000114\n",
      "lfw - accuray:0.9960000000000001, threshold:0.2350000000000012\n",
      "vgg2_fp - accuray:0.9396000000000001, threshold:0.1110000000000011\n",
      "agedb_30 - accuray:0.9528333333333332, threshold:0.14850000000000102\n",
      "calfw - accuray:0.9476666666666667, threshold:0.18850000000000103\n",
      "cfp_ff - accuray:0.9947142857142858, threshold:0.19400000000000114\n",
      "cfp_fp - accuray:0.9364285714285714, threshold:0.09750000000000103\n",
      "cplfw - accuray:0.8925000000000001, threshold:0.1540000000000011\n",
      "lfw - accuray:0.9960000000000001, threshold:0.24300000000000113\n",
      "vgg2_fp - accuray:0.943, threshold:0.10500000000000087\n",
      "agedb_30 - accuray:0.9596666666666666, threshold:0.18000000000000105\n",
      "calfw - accuray:0.9511666666666667, threshold:0.20450000000000107\n",
      "cfp_ff - accuray:0.9949999999999999, threshold:0.20350000000000107\n",
      "cfp_fp - accuray:0.9384285714285715, threshold:0.120000000000001\n",
      "cplfw - accuray:0.8923333333333334, threshold:0.15250000000000105\n"
     ]
    }
   ],
   "source": [
    "corr_eff = np.load('2019-08-25-14-35_accuracy:0.9931666666666666_step:218349_None.npy')\n",
    "corr_eff = np.load('2019-09-02-08-21_accuracy:0.9968333333333333_step:436692_CosFace.npy')\n",
    "corr_attention = getCorrAttention(corr_eff)\n",
    "testWithDatasets(test_datasets, conf, learner, unit_attention)\n",
    "testWithDatasets(test_datasets, conf, learner, corr_attention)\n",
    "\n",
    "\n",
    "testWithDatasets(test_datasets, conf, learner, None)"
   ]
  },
  {
   "cell_type": "code",
   "execution_count": null,
   "metadata": {},
   "outputs": [],
   "source": [
    "# corrPlot = learner.plot_CorrBtwXCosAndCos(conf, \n",
    "#                                           lfw, lfw_issame, \n",
    "#                                           nrof_folds=10, tta=True, \n",
    "#                                           attention=unit_attention)\n",
    "# trans.ToPILImage()(corrPlot)"
   ]
  },
  {
   "cell_type": "code",
   "execution_count": null,
   "metadata": {},
   "outputs": [],
   "source": [
    "# lfw, lfw_issame = get_val_pair(conf.emore_folder, 'lfw')\n",
    "# learner.plot_Examples(conf, \n",
    "#                       lfw, lfw_issame, \n",
    "#                       nrof_folds=10, tta=True, \n",
    "#                       attention=unit_attention,\n",
    "#                       exDir=exdir)\n"
   ]
  },
  {
   "cell_type": "code",
   "execution_count": null,
   "metadata": {},
   "outputs": [],
   "source": [
    "input()"
   ]
  },
  {
   "cell_type": "code",
   "execution_count": null,
   "metadata": {},
   "outputs": [],
   "source": [
    "# Test patched Cos\n",
    "exdir = 'cosPatchFtWithMs1M_learnedAtten'\n",
    "\n",
    "#"
   ]
  },
  {
   "cell_type": "code",
   "execution_count": null,
   "metadata": {},
   "outputs": [],
   "source": [
    "lfw, lfw_issame = get_val_pair(conf.emore_folder, 'lfw')\n",
    "accuracy, best_threshold, roc_curve_tensor = learner.evaluate_attention(conf, \n",
    "                                                                        lfw, lfw_issame, \n",
    "                                                                        nrof_folds=10, tta=True, \n",
    "                                                                        attention=None)\n",
    "print('lfw - accuray:{}, threshold:{}'.format(accuracy, best_threshold))\n",
    "trans.ToPILImage()(roc_curve_tensor)"
   ]
  },
  {
   "cell_type": "code",
   "execution_count": null,
   "metadata": {},
   "outputs": [],
   "source": [
    "corrPlot = learner.plot_CorrBtwXCosAndCos(conf, \n",
    "                                          lfw, lfw_issame, \n",
    "                                          nrof_folds=10, tta=True, \n",
    "                                          attention=None)\n",
    "trans.ToPILImage()(corrPlot)\n"
   ]
  },
  {
   "cell_type": "code",
   "execution_count": null,
   "metadata": {},
   "outputs": [],
   "source": [
    "input()"
   ]
  },
  {
   "cell_type": "code",
   "execution_count": null,
   "metadata": {
    "ExecuteTime": {
     "end_time": "2018-08-06T12:16:20.800212Z",
     "start_time": "2018-08-06T12:16:20.779466Z"
    }
   },
   "outputs": [],
   "source": [
    "conf.use_mobilfacenet = True"
   ]
  },
  {
   "cell_type": "code",
   "execution_count": null,
   "metadata": {
    "ExecuteTime": {
     "end_time": "2018-08-06T12:16:23.221644Z",
     "start_time": "2018-08-06T12:16:21.054952Z"
    }
   },
   "outputs": [],
   "source": [
    "learner = face_learner(conf, inference=True)"
   ]
  },
  {
   "cell_type": "code",
   "execution_count": null,
   "metadata": {
    "ExecuteTime": {
     "end_time": "2018-08-06T12:16:28.597709Z",
     "start_time": "2018-08-06T12:16:28.517182Z"
    }
   },
   "outputs": [],
   "source": [
    "learner.load_state(conf, 'mobilefacenet.pth', True, True)"
   ]
  },
  {
   "cell_type": "code",
   "execution_count": null,
   "metadata": {
    "ExecuteTime": {
     "end_time": "2018-08-06T12:08:41.321635Z",
     "start_time": "2018-08-06T12:08:25.989406Z"
    }
   },
   "outputs": [],
   "source": [
    "vgg2_fp, vgg2_fp_issame = get_val_pair(conf.emore_folder, 'vgg2_fp')\n",
    "accuracy, best_threshold, roc_curve_tensor = learner.evaluate(conf, vgg2_fp, vgg2_fp_issame, nrof_folds=10, tta=True)\n",
    "print('vgg2_fp - accuray:{}, threshold:{}'.format(accuracy, best_threshold))\n",
    "trans.ToPILImage()(roc_curve_tensor)"
   ]
  },
  {
   "cell_type": "code",
   "execution_count": null,
   "metadata": {
    "ExecuteTime": {
     "end_time": "2018-08-06T12:08:58.154562Z",
     "start_time": "2018-08-06T12:08:41.322814Z"
    }
   },
   "outputs": [],
   "source": [
    "agedb_30, agedb_30_issame = get_val_pair(conf.emore_folder, 'agedb_30')\n",
    "accuracy, best_threshold, roc_curve_tensor = learner.evaluate(conf, agedb_30, agedb_30_issame, nrof_folds=10, tta=True)\n",
    "print('agedb_30 - accuray:{}, threshold:{}'.format(accuracy, best_threshold))\n",
    "trans.ToPILImage()(roc_curve_tensor)"
   ]
  },
  {
   "cell_type": "code",
   "execution_count": null,
   "metadata": {
    "ExecuteTime": {
     "end_time": "2018-08-06T12:09:15.709817Z",
     "start_time": "2018-08-06T12:08:58.155453Z"
    }
   },
   "outputs": [],
   "source": [
    "calfw, calfw_issame = get_val_pair(conf.emore_folder, 'calfw')\n",
    "accuracy, best_threshold, roc_curve_tensor = learner.evaluate(conf, calfw, calfw_issame, nrof_folds=10, tta=True)\n",
    "print('calfw - accuray:{}, threshold:{}'.format(accuracy, best_threshold))\n",
    "trans.ToPILImage()(roc_curve_tensor)"
   ]
  },
  {
   "cell_type": "code",
   "execution_count": null,
   "metadata": {
    "ExecuteTime": {
     "end_time": "2018-08-06T12:09:35.552967Z",
     "start_time": "2018-08-06T12:09:15.711000Z"
    }
   },
   "outputs": [],
   "source": [
    "cfp_ff, cfp_ff_issame = get_val_pair(conf.emore_folder, 'cfp_ff')\n",
    "accuracy, best_threshold, roc_curve_tensor = learner.evaluate(conf, cfp_ff, cfp_ff_issame, nrof_folds=10, tta=True)\n",
    "print('cfp_ff - accuray:{}, threshold:{}'.format(accuracy, best_threshold))\n",
    "trans.ToPILImage()(roc_curve_tensor)"
   ]
  },
  {
   "cell_type": "code",
   "execution_count": null,
   "metadata": {
    "ExecuteTime": {
     "end_time": "2018-08-06T12:09:54.973120Z",
     "start_time": "2018-08-06T12:09:35.553840Z"
    }
   },
   "outputs": [],
   "source": [
    "cfp_fp, cfp_fp_issame = get_val_pair(conf.emore_folder, 'cfp_fp')\n",
    "accuracy, best_threshold, roc_curve_tensor = learner.evaluate(conf, cfp_fp, cfp_fp_issame, nrof_folds=10, tta=True)\n",
    "print('cfp_fp - accuray:{}, threshold:{}'.format(accuracy, best_threshold))\n",
    "trans.ToPILImage()(roc_curve_tensor)"
   ]
  },
  {
   "cell_type": "code",
   "execution_count": null,
   "metadata": {
    "ExecuteTime": {
     "end_time": "2018-08-06T12:10:13.593599Z",
     "start_time": "2018-08-06T12:09:54.973974Z"
    }
   },
   "outputs": [],
   "source": [
    "cplfw, cplfw_issame = get_val_pair(conf.emore_folder, 'cplfw')\n",
    "accuracy, best_threshold, roc_curve_tensor = learner.evaluate(conf, cplfw, cplfw_issame, nrof_folds=10, tta=True)\n",
    "print('cplfw - accuray:{}, threshold:{}'.format(accuracy, best_threshold))\n",
    "trans.ToPILImage()(roc_curve_tensor)"
   ]
  },
  {
   "cell_type": "code",
   "execution_count": null,
   "metadata": {
    "ExecuteTime": {
     "end_time": "2018-08-06T12:10:30.937786Z",
     "start_time": "2018-08-06T12:10:13.594457Z"
    },
    "scrolled": false
   },
   "outputs": [],
   "source": [
    "lfw, lfw_issame = get_val_pair(conf.emore_folder, 'lfw')\n",
    "accuracy, best_threshold, roc_curve_tensor = learner.evaluate(conf, lfw, lfw_issame, nrof_folds=10, tta=True)\n",
    "print('lfw - accuray:{}, threshold:{}'.format(accuracy, best_threshold))\n",
    "trans.ToPILImage()(roc_curve_tensor)"
   ]
  }
 ],
 "metadata": {
  "hide_input": false,
  "kernelspec": {
   "display_name": "Python 3",
   "language": "python",
   "name": "python3"
  },
  "language_info": {
   "codemirror_mode": {
    "name": "ipython",
    "version": 3
   },
   "file_extension": ".py",
   "mimetype": "text/x-python",
   "name": "python",
   "nbconvert_exporter": "python",
   "pygments_lexer": "ipython3",
   "version": "3.7.2"
  }
 },
 "nbformat": 4,
 "nbformat_minor": 2
}
